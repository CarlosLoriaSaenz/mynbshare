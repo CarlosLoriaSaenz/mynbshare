{
 "cells": [
  {
   "cell_type": "markdown",
   "metadata": {},
   "source": [
    "# Demo using CSV with Pandas, Matplotlib and NumPy\n",
    "### `loriacarlos@gmail.com`\n",
    "### EIF203 I-2018\n",
    "### UNA"
   ]
  },
  {
   "cell_type": "markdown",
   "metadata": {},
   "source": [
    "Some examples using Python known packages for our bubble experiment\n",
    "* pandas\n",
    "* numpy\n",
    "* statsmodel\n",
    "---\n",
    "Links \n",
    "1. [Plot in pandas](http://jonathansoma.com/lede/algorithms-2017/classes/fuzziness-matplotlib/understand-df-plot-in-pandas/)\n",
    "2. [Video showing linear model](https://www.youtube.com/watch?v=ro5ftxuD6is)\n",
    "3. [Video non-linear regression](https://www.youtube.com/watch?v=EShuLfSxpsI)\n",
    "4. [statsmodel quadratic expression](https://stackoverflow.com/questions/31978948/python-stats-models-quadratic-term-in-regression?utm_medium=organic&utm_source=google_rich_qa&utm_campaign=google_rich_qa)\n",
    "5. [Setting the label legend](https://stackoverflow.com/questions/19125722/adding-a-legend-to-pyplot-in-matplotlib-in-the-most-simple-manner-possible?utm_medium=organic&utm_source=google_rich_qa&utm_campaign=google_rich_qa)\n",
    "6. [Regression with Scipy (See polyfit)](http://scipy-cookbook.readthedocs.io/items/LinearRegression.html?highlight=polyfit)\n",
    "7. [Markdown Tutorial](https://www.markdowntutorial.com) [Example in Wikipedia](https://en.wikipedia.org/wiki/Markdown#Example)\n"
   ]
  },
  {
   "cell_type": "code",
   "execution_count": 18,
   "metadata": {
    "collapsed": true
   },
   "outputs": [],
   "source": [
    "#"
   ]
  },
  {
   "cell_type": "code",
   "execution_count": 19,
   "metadata": {},
   "outputs": [
    {
     "data": {
      "text/html": [
       "<div>\n",
       "<style>\n",
       "    .dataframe thead tr:only-child th {\n",
       "        text-align: right;\n",
       "    }\n",
       "\n",
       "    .dataframe thead th {\n",
       "        text-align: left;\n",
       "    }\n",
       "\n",
       "    .dataframe tbody tr th {\n",
       "        vertical-align: top;\n",
       "    }\n",
       "</style>\n",
       "<table border=\"1\" class=\"dataframe\">\n",
       "  <thead>\n",
       "    <tr style=\"text-align: right;\">\n",
       "      <th></th>\n",
       "      <th>i</th>\n",
       "      <th>n</th>\n",
       "      <th>time</th>\n",
       "    </tr>\n",
       "  </thead>\n",
       "  <tbody>\n",
       "    <tr>\n",
       "      <th>0</th>\n",
       "      <td>0</td>\n",
       "      <td>20</td>\n",
       "      <td>0.012885</td>\n",
       "    </tr>\n",
       "    <tr>\n",
       "      <th>1</th>\n",
       "      <td>1</td>\n",
       "      <td>120</td>\n",
       "      <td>0.357826</td>\n",
       "    </tr>\n",
       "    <tr>\n",
       "      <th>2</th>\n",
       "      <td>2</td>\n",
       "      <td>220</td>\n",
       "      <td>1.188537</td>\n",
       "    </tr>\n",
       "    <tr>\n",
       "      <th>3</th>\n",
       "      <td>3</td>\n",
       "      <td>320</td>\n",
       "      <td>2.518863</td>\n",
       "    </tr>\n",
       "    <tr>\n",
       "      <th>4</th>\n",
       "      <td>4</td>\n",
       "      <td>420</td>\n",
       "      <td>4.455853</td>\n",
       "    </tr>\n",
       "    <tr>\n",
       "      <th>5</th>\n",
       "      <td>5</td>\n",
       "      <td>520</td>\n",
       "      <td>7.125808</td>\n",
       "    </tr>\n",
       "    <tr>\n",
       "      <th>6</th>\n",
       "      <td>6</td>\n",
       "      <td>620</td>\n",
       "      <td>10.264424</td>\n",
       "    </tr>\n",
       "    <tr>\n",
       "      <th>7</th>\n",
       "      <td>7</td>\n",
       "      <td>720</td>\n",
       "      <td>14.140656</td>\n",
       "    </tr>\n",
       "    <tr>\n",
       "      <th>8</th>\n",
       "      <td>8</td>\n",
       "      <td>820</td>\n",
       "      <td>18.838478</td>\n",
       "    </tr>\n",
       "    <tr>\n",
       "      <th>9</th>\n",
       "      <td>9</td>\n",
       "      <td>920</td>\n",
       "      <td>23.529861</td>\n",
       "    </tr>\n",
       "  </tbody>\n",
       "</table>\n",
       "</div>"
      ],
      "text/plain": [
       "   i    n       time\n",
       "0  0   20   0.012885\n",
       "1  1  120   0.357826\n",
       "2  2  220   1.188537\n",
       "3  3  320   2.518863\n",
       "4  4  420   4.455853\n",
       "5  5  520   7.125808\n",
       "6  6  620  10.264424\n",
       "7  7  720  14.140656\n",
       "8  8  820  18.838478\n",
       "9  9  920  23.529861"
      ]
     },
     "execution_count": 19,
     "metadata": {},
     "output_type": "execute_result"
    }
   ],
   "source": [
    "# Reads bubble data (first edit column time(n) to be just time)\n",
    "# Separator is ;\n",
    "import pandas as pd\n",
    "import numpy as np\n",
    "# Df is a dataFrame from Pandas (una tabla muy poderosa)\n",
    "df = pd.read_csv('data/bubble_time.csv', sep=\";\")\n",
    "df"
   ]
  },
  {
   "cell_type": "code",
   "execution_count": 20,
   "metadata": {},
   "outputs": [
    {
     "data": {
      "text/plain": [
       "<matplotlib.axes._subplots.AxesSubplot at 0x21dcdc066a0>"
      ]
     },
     "execution_count": 20,
     "metadata": {},
     "output_type": "execute_result"
    },
    {
     "data": {
      "image/png": "[encoded data removed]",
      "text/plain": [
       "<matplotlib.figure.Figure at 0x21dcd089f98>"
      ]
     },
     "metadata": {},
     "output_type": "display_data"
    }
   ],
   "source": [
    "# Plot n versus time (inlined into notebook)\n",
    "%matplotlib inline\n",
    "df.plot(x=\"n\", y=\"time\", label=\"time(n)\")"
   ]
  },
  {
   "cell_type": "code",
   "execution_count": 21,
   "metadata": {},
   "outputs": [
    {
     "data": {
      "image/png": "[encoded data removed]",
      "text/plain": [
       "<matplotlib.figure.Figure at 0x21dcdc723c8>"
      ]
     },
     "metadata": {},
     "output_type": "display_data"
    }
   ],
   "source": [
    "import warnings\n",
    "warnings.filterwarnings(\"ignore\")\n",
    "# Build the model and plot it\n",
    "import matplotlib.pyplot as plt\n",
    "import pandas as pd\n",
    "import statsmodels.api as sm\n",
    "\n",
    "fig, ax = plt.subplots()\n",
    "df.plot(x='n', y='time', ax=ax)\n",
    "# Customize plot\n",
    "ax.set_title('Bubble real data vs Model data')\n",
    "ax.set_ylabel('time')\n",
    "# Build model\n",
    "model = sm.formula.ols(formula='time ~  np.power(n, 2) + n', data=df)\n",
    "res = model.fit()\n",
    "# Add fitted values to dataframe\n",
    "df_with_fit = df.assign(fit=res.fittedvalues)\n",
    "# Plot\n",
    "df_with_fit.plot(x='n', y='fit', ax=ax, color=\"red\", label=\"fit (R^2={:0.6})\".format(res.rsquared))\n",
    "plt.savefig('data/bubble_model.png')\n"
   ]
  },
  {
   "cell_type": "code",
   "execution_count": 22,
   "metadata": {},
   "outputs": [
    {
     "data": {
      "text/html": [
       "<table class=\"simpletable\">\n",
       "<caption>OLS Regression Results</caption>\n",
       "<tr>\n",
       "  <th>Dep. Variable:</th>          <td>time</td>       <th>  R-squared:         </th> <td>   1.000</td> \n",
       "</tr>\n",
       "<tr>\n",
       "  <th>Model:</th>                   <td>OLS</td>       <th>  Adj. R-squared:    </th> <td>   1.000</td> \n",
       "</tr>\n",
       "<tr>\n",
       "  <th>Method:</th>             <td>Least Squares</td>  <th>  F-statistic:       </th> <td>2.188e+04</td>\n",
       "</tr>\n",
       "<tr>\n",
       "  <th>Date:</th>             <td>Mon, 09 Apr 2018</td> <th>  Prob (F-statistic):</th> <td>5.18e-14</td> \n",
       "</tr>\n",
       "<tr>\n",
       "  <th>Time:</th>                 <td>15:16:19</td>     <th>  Log-Likelihood:    </th> <td>  8.9362</td> \n",
       "</tr>\n",
       "<tr>\n",
       "  <th>No. Observations:</th>      <td>    10</td>      <th>  AIC:               </th> <td>  -11.87</td> \n",
       "</tr>\n",
       "<tr>\n",
       "  <th>Df Residuals:</th>          <td>     7</td>      <th>  BIC:               </th> <td>  -10.96</td> \n",
       "</tr>\n",
       "<tr>\n",
       "  <th>Df Model:</th>              <td>     2</td>      <th>                     </th>     <td> </td>    \n",
       "</tr>\n",
       "<tr>\n",
       "  <th>Covariance Type:</th>      <td>nonrobust</td>    <th>                     </th>     <td> </td>    \n",
       "</tr>\n",
       "</table>\n",
       "<table class=\"simpletable\">\n",
       "<tr>\n",
       "         <td></td>           <th>coef</th>     <th>std err</th>      <th>t</th>      <th>P>|t|</th>  <th>[0.025</th>    <th>0.975]</th>  \n",
       "</tr>\n",
       "<tr>\n",
       "  <th>Intercept</th>      <td>    0.1221</td> <td>    0.101</td> <td>    1.207</td> <td> 0.267</td> <td>   -0.117</td> <td>    0.361</td>\n",
       "</tr>\n",
       "<tr>\n",
       "  <th>np.power(n, 2)</th> <td> 3.017e-05</td> <td> 5.15e-07</td> <td>   58.579</td> <td> 0.000</td> <td>  2.9e-05</td> <td> 3.14e-05</td>\n",
       "</tr>\n",
       "<tr>\n",
       "  <th>n</th>              <td>   -0.0022</td> <td>    0.001</td> <td>   -4.379</td> <td> 0.003</td> <td>   -0.003</td> <td>   -0.001</td>\n",
       "</tr>\n",
       "</table>\n",
       "<table class=\"simpletable\">\n",
       "<tr>\n",
       "  <th>Omnibus:</th>       <td> 4.957</td> <th>  Durbin-Watson:     </th> <td>   2.380</td>\n",
       "</tr>\n",
       "<tr>\n",
       "  <th>Prob(Omnibus):</th> <td> 0.084</td> <th>  Jarque-Bera (JB):  </th> <td>   2.018</td>\n",
       "</tr>\n",
       "<tr>\n",
       "  <th>Skew:</th>          <td> 1.086</td> <th>  Prob(JB):          </th> <td>   0.365</td>\n",
       "</tr>\n",
       "<tr>\n",
       "  <th>Kurtosis:</th>      <td> 3.347</td> <th>  Cond. No.          </th> <td>1.12e+06</td>\n",
       "</tr>\n",
       "</table>"
      ],
      "text/plain": [
       "<class 'statsmodels.iolib.summary.Summary'>\n",
       "\"\"\"\n",
       "                            OLS Regression Results                            \n",
       "==============================================================================\n",
       "Dep. Variable:                   time   R-squared:                       1.000\n",
       "Model:                            OLS   Adj. R-squared:                  1.000\n",
       "Method:                 Least Squares   F-statistic:                 2.188e+04\n",
       "Date:                Mon, 09 Apr 2018   Prob (F-statistic):           5.18e-14\n",
       "Time:                        15:16:19   Log-Likelihood:                 8.9362\n",
       "No. Observations:                  10   AIC:                            -11.87\n",
       "Df Residuals:                       7   BIC:                            -10.96\n",
       "Df Model:                           2                                         \n",
       "Covariance Type:            nonrobust                                         \n",
       "==================================================================================\n",
       "                     coef    std err          t      P>|t|      [0.025      0.975]\n",
       "----------------------------------------------------------------------------------\n",
       "Intercept          0.1221      0.101      1.207      0.267      -0.117       0.361\n",
       "np.power(n, 2)  3.017e-05   5.15e-07     58.579      0.000     2.9e-05    3.14e-05\n",
       "n                 -0.0022      0.001     -4.379      0.003      -0.003      -0.001\n",
       "==============================================================================\n",
       "Omnibus:                        4.957   Durbin-Watson:                   2.380\n",
       "Prob(Omnibus):                  0.084   Jarque-Bera (JB):                2.018\n",
       "Skew:                           1.086   Prob(JB):                        0.365\n",
       "Kurtosis:                       3.347   Cond. No.                     1.12e+06\n",
       "==============================================================================\n",
       "\n",
       "Warnings:\n",
       "[1] Standard Errors assume that the covariance matrix of the errors is correctly specified.\n",
       "[2] The condition number is large, 1.12e+06. This might indicate that there are\n",
       "strong multicollinearity or other numerical problems.\n",
       "\"\"\""
      ]
     },
     "execution_count": 22,
     "metadata": {},
     "output_type": "execute_result"
    }
   ],
   "source": [
    "# Show model info\n",
    "res.summary()"
   ]
  },
  {
   "cell_type": "code",
   "execution_count": 23,
   "metadata": {},
   "outputs": [
    {
     "data": {
      "text/plain": [
       "(3.0167949089562184e-05, -0.0021951704002434354, 0.12209339516711548)"
      ]
     },
     "execution_count": 23,
     "metadata": {},
     "output_type": "execute_result"
    }
   ],
   "source": [
    "# Recover model coefficientes (in case of 3)\n",
    "res.params\n",
    "b, xx, x = res.params\n",
    "xx, x, b\n"
   ]
  },
  {
   "cell_type": "markdown",
   "metadata": {
    "collapsed": true
   },
   "source": [
    "# The saved png of the chart\n",
    "![](data/bubble_model.png)"
   ]
  }
 ],
 "metadata": {
  "kernelspec": {
   "display_name": "Python 3",
   "language": "python",
   "name": "python3"
  },
  "language_info": {
   "codemirror_mode": {
    "name": "ipython",
    "version": 3
   },
   "file_extension": ".py",
   "mimetype": "text/x-python",
   "name": "python",
   "nbconvert_exporter": "python",
   "pygments_lexer": "ipython3",
   "version": "3.6.3"
  }
 },
 "nbformat": 4,
 "nbformat_minor": 2
}
